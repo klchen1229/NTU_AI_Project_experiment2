{
 "cells": [
  {
   "cell_type": "code",
   "execution_count": 1,
   "metadata": {},
   "outputs": [],
   "source": [
    "import os\n",
    "import numpy as np\n",
    "import pandas as pd\n",
    "import random\n",
    "from tqdm import tqdm"
   ]
  },
  {
   "cell_type": "code",
   "execution_count": 2,
   "metadata": {},
   "outputs": [],
   "source": [
    "import cv2\n",
    "import imgaug.augmenters as iaa\n",
    "import imgaug as ia"
   ]
  },
  {
   "cell_type": "code",
   "execution_count": 3,
   "metadata": {},
   "outputs": [],
   "source": [
    "ranSeed = 22\n",
    "IMG_SIZE = 224\n",
    "ColorCh = 3\n",
    "dataPath = '../../dataset/Fish_Dataset/Fish_Dataset'"
   ]
  },
  {
   "cell_type": "code",
   "execution_count": 4,
   "metadata": {},
   "outputs": [],
   "source": [
    "os.environ['PYTHONHASHSEED'] = str(ranSeed)\n",
    "np.random.seed(ranSeed)\n",
    "ia.seed(ranSeed)\n",
    "random.seed(ranSeed)"
   ]
  },
  {
   "cell_type": "code",
   "execution_count": 5,
   "metadata": {},
   "outputs": [
    {
     "name": "stdout",
     "output_type": "stream",
     "text": [
      "['Black Sea Sprat', 'Gilt-Head Bream', 'Hourse Mackerel', 'Red Mullet', 'Red Sea Bream', 'Sea Bass', 'Shrimp', 'Striped Red Mullet', 'Trout']\n"
     ]
    }
   ],
   "source": [
    "category = []\n",
    "for cat in os.listdir(dataPath):\n",
    "    if not '.' in cat:\n",
    "        category.append(cat)\n",
    "\n",
    "print(category)"
   ]
  },
  {
   "cell_type": "code",
   "execution_count": 6,
   "metadata": {},
   "outputs": [],
   "source": [
    "def imagePreProcess(dataPath):\n",
    "    \n",
    "    X = []\n",
    "    y = []\n",
    "    \n",
    "    crop = iaa.Crop(px=(0, 24))\n",
    "    zoom = iaa.Affine(scale=(0.4, 1.6))\n",
    "    rotate = iaa.Affine(rotate=(-30, 30))\n",
    "    flip = iaa.Fliplr(0.5)\n",
    "    bright = iaa.Multiply((1, 1.2))\n",
    "    gaussian = iaa.GaussianBlur(sigma=(0, 4.0))\n",
    "\n",
    "    category = []\n",
    "    \n",
    "    for cat in os.listdir(dataPath):\n",
    "        if not '.' in cat:\n",
    "            category.append(cat)\n",
    "    \n",
    "    for i, cat in enumerate(category):\n",
    "        path = os.path.join(dataPath, cat, (cat))        \n",
    "        if not os.path.isdir(path):\n",
    "            pass\n",
    "        \n",
    "        else:\n",
    "            class_num = category.index(cat)\n",
    "            \n",
    "            limit1 = 1000\n",
    "            img_list = os.listdir(path)[0: limit1]\n",
    "            random.shuffle(img_list)\n",
    "            \n",
    "            limit2 = round(limit1*6/8)\n",
    "            img_list = img_list+img_list[0: limit2]\n",
    "            random.shuffle(img_list)\n",
    "            \n",
    "            limit3 = round(limit1*4/8)\n",
    "            img_list = img_list+img_list[0: limit3]\n",
    "            random.shuffle(img_list)\n",
    "            \n",
    "            limit4 = round(limit1*2/8)\n",
    "            img_list = img_list+img_list[0: limit4]\n",
    "            random.shuffle(img_list)\n",
    "            \n",
    "            for img in tqdm(img_list):\n",
    "                orig_img = cv2.imread(os.path.join(path,img) , cv2.IMREAD_COLOR)\n",
    "                image_aug = cv2.resize(orig_img, (IMG_SIZE, IMG_SIZE), \n",
    "                                       interpolation = cv2.INTER_CUBIC)\n",
    "                \n",
    "                image_aug = crop(image = image_aug)\n",
    "                image_aug = zoom(image = image_aug)\n",
    "                image_aug = rotate(image = image_aug)\n",
    "                image_aug = flip(image = image_aug)\n",
    "                image_aug = bright(image = image_aug)\n",
    "                image_aug = gaussian(image = image_aug)\n",
    "\n",
    "                image_aug = cv2.cvtColor(image_aug, cv2.COLOR_BGR2RGB)\n",
    "                X.append(image_aug)\n",
    "                y.append(class_num)\n",
    " \n",
    "\n",
    "        \n",
    "    features = pd.DataFrame((np.array(X)).reshape(-1, IMG_SIZE * IMG_SIZE * ColorCh))\n",
    "    labels = pd.DataFrame({'label': y})\n",
    "\n",
    "    df = pd.concat([features, labels], axis=1).sample(frac = 1, random_state = ranSeed)     \n",
    "    return df"
   ]
  },
  {
   "cell_type": "code",
   "execution_count": 7,
   "metadata": {},
   "outputs": [],
   "source": [
    "def dfSpilt(df, split_ratio):\n",
    "    l = df.shape[0]\n",
    "    dfArray = []\n",
    "    start = 0\n",
    "    end = split_ratio[0] * l\n",
    "    split_ratio.append(1)\n",
    "\n",
    "    for i in range(len(split_ratio)-1):\n",
    "        dfArray.append(df[int(start):int(end)])\n",
    "        start = end\n",
    "        end += split_ratio[i+1] * l\n",
    "    \n",
    "    return dfArray"
   ]
  },
  {
   "cell_type": "code",
   "execution_count": 8,
   "metadata": {},
   "outputs": [
    {
     "name": "stderr",
     "output_type": "stream",
     "text": [
      "100%|██████████| 2500/2500 [00:17<00:00, 140.85it/s]\n",
      "100%|██████████| 2500/2500 [00:18<00:00, 135.51it/s]\n",
      "100%|██████████| 2500/2500 [00:19<00:00, 131.19it/s]\n",
      "100%|██████████| 2500/2500 [00:21<00:00, 118.21it/s]\n",
      "100%|██████████| 2500/2500 [00:21<00:00, 114.27it/s]\n",
      "100%|██████████| 2500/2500 [00:23<00:00, 107.63it/s]\n",
      "100%|██████████| 2500/2500 [00:25<00:00, 99.29it/s] \n",
      "100%|██████████| 2500/2500 [00:26<00:00, 94.78it/s]\n",
      "100%|██████████| 2500/2500 [00:27<00:00, 89.97it/s]\n"
     ]
    }
   ],
   "source": [
    "dataframe = imagePreProcess(dataPath)"
   ]
  },
  {
   "cell_type": "code",
   "execution_count": 9,
   "metadata": {},
   "outputs": [],
   "source": [
    "split_ratio = [0.25, 0.25, 0.5]\n",
    "validation_ratio=[0.6, 0.4]\n",
    "\n",
    "#dataframe = pd.read_pickle('saveImage.h5')\n",
    "split_ratio = [0.25, 0.25, 0.5]\n",
    "dfs = dfSpilt(dataframe, split_ratio)\n",
    "\n",
    "df1 = dfs[0]\n",
    "df2 = dfs[1]\n",
    "dft = dfs[2]\n",
    "\n",
    "dfs1 = dfSpilt(df1, validation_ratio)\n",
    "dfs2 = dfSpilt(df2, validation_ratio)\n",
    "\n",
    "train_df = dfs1[0].append([dfs2[0]], ignore_index=True)\n",
    "valid_df = dfs1[1].append([dfs2[1]], ignore_index=True)\n",
    "\n",
    "train_df1 = dfs1[0]\n",
    "valid_df1 = dfs1[1]\n",
    "train_df2 = dfs2[0]\n",
    "valid_df2 = dfs2[1]\n",
    "test_df = dft\n",
    "\n",
    "train_df1.to_pickle('../../preprocDF/set1Train.h5')\n",
    "valid_df1.to_pickle('../../preprocDF/set1Valid.h5')\n",
    "\n",
    "train_df2.to_pickle('../../preprocDF/set2Train.h5')\n",
    "valid_df2.to_pickle('../../preprocDF/set2Valid.h5')\n",
    "\n",
    "train_df.to_pickle('../../preprocDF/train.h5')\n",
    "valid_df.to_pickle('../../preprocDF/valid.h5')\n",
    "test_df.to_pickle('../../preprocDF/test.h5')"
   ]
  },
  {
   "cell_type": "code",
   "execution_count": null,
   "metadata": {},
   "outputs": [],
   "source": []
  },
  {
   "cell_type": "code",
   "execution_count": null,
   "metadata": {},
   "outputs": [],
   "source": []
  }
 ],
 "metadata": {
  "kernelspec": {
   "display_name": "Python 3",
   "language": "python",
   "name": "python3"
  },
  "language_info": {
   "codemirror_mode": {
    "name": "ipython",
    "version": 3
   },
   "file_extension": ".py",
   "mimetype": "text/x-python",
   "name": "python",
   "nbconvert_exporter": "python",
   "pygments_lexer": "ipython3",
   "version": "3.8.3"
  },
  "varInspector": {
   "cols": {
    "lenName": 16,
    "lenType": 16,
    "lenVar": 40
   },
   "kernels_config": {
    "python": {
     "delete_cmd_postfix": "",
     "delete_cmd_prefix": "del ",
     "library": "var_list.py",
     "varRefreshCmd": "print(var_dic_list())"
    },
    "r": {
     "delete_cmd_postfix": ") ",
     "delete_cmd_prefix": "rm(",
     "library": "var_list.r",
     "varRefreshCmd": "cat(var_dic_list()) "
    }
   },
   "types_to_exclude": [
    "module",
    "function",
    "builtin_function_or_method",
    "instance",
    "_Feature"
   ],
   "window_display": false
  }
 },
 "nbformat": 4,
 "nbformat_minor": 4
}
