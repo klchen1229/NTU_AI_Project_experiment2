{
 "cells": [
  {
   "cell_type": "code",
   "execution_count": 1,
   "metadata": {},
   "outputs": [],
   "source": [
    "import os\n",
    "import platform\n",
    "import numpy as np\n",
    "import pandas as pd\n",
    "import random\n",
    "from tqdm import tqdm\n",
    "from IPython.display import clear_output\n",
    "import time\n",
    "import matplotlib.pyplot as plt"
   ]
  },
  {
   "cell_type": "code",
   "execution_count": 2,
   "metadata": {},
   "outputs": [],
   "source": [
    "import tensorflow as tf\n",
    "\n",
    "from tensorflow import keras\n",
    "from tensorflow.keras.layers import Dense, Dropout, Activation, Flatten, Add\n",
    "from tensorflow.keras.layers import InputLayer, Input, Conv2D, MaxPooling2D, AveragePooling2D, GlobalAveragePooling2D, Activation, MaxPool2D, ZeroPadding2D\n",
    "from keras.layers.normalization import BatchNormalization\n",
    "from tensorflow.keras.models import Model, Sequential\n",
    "from keras import activations\n",
    "from keras import regularizers"
   ]
  },
  {
   "cell_type": "code",
   "execution_count": 3,
   "metadata": {},
   "outputs": [],
   "source": [
    "import seaborn as sns\n",
    "from sklearn import metrics\n",
    "from sklearn.metrics import roc_curve, roc_auc_score, plot_roc_curve, accuracy_score, classification_report, confusion_matrix"
   ]
  },
  {
   "cell_type": "code",
   "execution_count": 4,
   "metadata": {},
   "outputs": [
    {
     "data": {
      "text/plain": [
       "[PhysicalDevice(name='/physical_device:GPU:0', device_type='GPU')]"
      ]
     },
     "execution_count": 4,
     "metadata": {},
     "output_type": "execute_result"
    }
   ],
   "source": [
    "# check gpu is avaible\n",
    "tf.config.list_physical_devices('GPU')"
   ]
  },
  {
   "cell_type": "code",
   "execution_count": 5,
   "metadata": {},
   "outputs": [],
   "source": [
    "ranSeed = 66\n",
    "IMG_SIZE = 224\n",
    "ColorCh = 3\n",
    "dataPath = '../../dataset/Fish_Dataset/Fish_Dataset'"
   ]
  },
  {
   "cell_type": "code",
   "execution_count": 6,
   "metadata": {},
   "outputs": [],
   "source": [
    "os.environ['PYTHONHASHSEED'] = str(ranSeed)\n",
    "np.random.seed(ranSeed)\n",
    "tf.random.set_seed(ranSeed)\n",
    "random.seed(ranSeed)"
   ]
  },
  {
   "cell_type": "code",
   "execution_count": 7,
   "metadata": {},
   "outputs": [
    {
     "name": "stdout",
     "output_type": "stream",
     "text": [
      "['Black Sea Sprat', 'Gilt-Head Bream', 'Hourse Mackerel', 'Red Mullet', 'Red Sea Bream', 'Sea Bass', 'Shrimp', 'Striped Red Mullet', 'Trout']\n"
     ]
    }
   ],
   "source": [
    "category = []\n",
    "for cat in os.listdir(dataPath):\n",
    "    if not '.' in cat:\n",
    "        category.append(cat)\n",
    "\n",
    "print(category)"
   ]
  },
  {
   "cell_type": "code",
   "execution_count": 8,
   "metadata": {},
   "outputs": [],
   "source": [
    "train_df1 = pd.read_pickle('../../preprocDF/set1Train.h5')\n",
    "valid_df1 = pd.read_pickle('../../preprocDF/set1Valid.h5')\n",
    "train_df2 = pd.read_pickle('../../preprocDF/set2Train.h5')\n",
    "valid_df2 = pd.read_pickle('../../preprocDF/set2Valid.h5')\n",
    "\n",
    "train_df = pd.read_pickle('../../preprocDF/train.h5')\n",
    "valid_df = pd.read_pickle('../../preprocDF/valid.h5')\n",
    "test_df = pd.read_pickle('../../preprocDF/test.h5')"
   ]
  },
  {
   "cell_type": "code",
   "execution_count": 9,
   "metadata": {},
   "outputs": [],
   "source": [
    "X_train1 = train_df1.drop([\"label\"],axis = 1).to_numpy().reshape(-1,IMG_SIZE,IMG_SIZE,ColorCh).astype(np.float32) / 255.0\n",
    "y_train1 = train_df1['label']\n",
    "\n",
    "X_valid1 = valid_df1.drop([\"label\"],axis = 1).to_numpy().reshape(-1,IMG_SIZE,IMG_SIZE,ColorCh).astype(np.float32) / 255.0\n",
    "y_valid1 = valid_df1['label']\n",
    "\n",
    "X_train2 = train_df2.drop([\"label\"],axis = 1).to_numpy().reshape(-1,IMG_SIZE,IMG_SIZE,ColorCh).astype(np.float32) / 255.0\n",
    "y_train2 = train_df2['label']\n",
    "\n",
    "X_valid2 = valid_df2.drop([\"label\"],axis = 1).to_numpy().reshape(-1,IMG_SIZE,IMG_SIZE,ColorCh).astype(np.float32) / 255.0\n",
    "y_valid2 = valid_df2['label']\n",
    "\n",
    "X_train = train_df.drop([\"label\"],axis = 1).to_numpy().reshape(-1,IMG_SIZE,IMG_SIZE,ColorCh).astype(np.float32) / 255.0\n",
    "y_train = train_df['label']\n",
    "\n",
    "X_valid = valid_df.drop([\"label\"],axis = 1).to_numpy().reshape(-1,IMG_SIZE,IMG_SIZE,ColorCh).astype(np.float32) / 255.0\n",
    "y_valid = valid_df['label']\n",
    "\n",
    "X_test = test_df.drop([\"label\"],axis = 1).to_numpy().reshape(-1,IMG_SIZE,IMG_SIZE,ColorCh).astype(np.float32) / 255.0\n",
    "y_test = test_df['label']"
   ]
  },
  {
   "cell_type": "code",
   "execution_count": 10,
   "metadata": {},
   "outputs": [
    {
     "name": "stdout",
     "output_type": "stream",
     "text": [
      "set1 :\n",
      "3375 train images\n",
      "2250 valid images\n",
      "set2 :\n",
      "3375 train images\n",
      "2250 valid images\n",
      "\n",
      "11250 test images\n",
      "\n",
      "input shape: (224, 224, 3)\n",
      "\n",
      "9 labels count\n"
     ]
    }
   ],
   "source": [
    "# data summary\n",
    "print('set1 :')\n",
    "print('{} train images'.format(X_train1.shape[0]))\n",
    "print('{} valid images'.format(X_valid1.shape[0]))\n",
    "print('set2 :')\n",
    "print('{} train images'.format(X_train2.shape[0]))\n",
    "print('{} valid images'.format(X_valid2.shape[0]))\n",
    "\n",
    "print('\\n{} test images'.format(X_test.shape[0]))\n",
    "\n",
    "input_shape = X_train1.shape[1:]\n",
    "print('\\ninput shape:', input_shape)\n",
    "\n",
    "n_classes = len(pd.Series(test_df['label'].values.ravel()).value_counts())\n",
    "print('\\n{} labels count'.format(n_classes))"
   ]
  },
  {
   "cell_type": "code",
   "execution_count": null,
   "metadata": {},
   "outputs": [],
   "source": []
  },
  {
   "cell_type": "code",
   "execution_count": 11,
   "metadata": {},
   "outputs": [],
   "source": [
    "kernel_regularizer = regularizers.l2(0.0001)"
   ]
  },
  {
   "cell_type": "code",
   "execution_count": 12,
   "metadata": {},
   "outputs": [],
   "source": [
    "def vgg_block(num_convs, num_channels):\n",
    "    block = tf.keras.models.Sequential()\n",
    "    \n",
    "    for _ in range(num_convs):\n",
    "        block.add(Conv2D(filters=num_channels, kernel_size = (3,3), padding=\"same\"))\n",
    "        block.add(BatchNormalization())\n",
    "        block.add(Activation('relu'))\n",
    "        \n",
    "    block.add(MaxPooling2D(pool_size=2, strides=2))\n",
    "    return block\n",
    "\n",
    "def VGG_MODEL():\n",
    "\n",
    "    conv_arch = ((2, 64), (2, 128), (3, 256), (3, 512), (3, 512))\n",
    " \n",
    "    vgg_model = Sequential()\n",
    "    vgg_model.add(Input(shape=input_shape))\n",
    "    \n",
    "    for (num_convs, num_channels) in conv_arch:\n",
    "        vgg_model.add(vgg_block(num_convs, num_channels))\n",
    "    \n",
    "    vgg_model.add(Flatten())\n",
    "    \n",
    "    vgg_model.add(Dense(units=1024))\n",
    "    vgg_model.add(BatchNormalization())\n",
    "    vgg_model.add(Activation('relu'))\n",
    "    vgg_model.add(Dropout(0.5, seed=ranSeed))\n",
    "    \n",
    "    \n",
    "    vgg_model.add(Dense(units=n_classes, activation='softmax'))\n",
    "    \n",
    "    return vgg_model"
   ]
  },
  {
   "cell_type": "code",
   "execution_count": 13,
   "metadata": {},
   "outputs": [],
   "source": [
    "def print_graph(item, index, history):\n",
    "    \n",
    "    train_values = history.history[item][0:index]\n",
    "    plt.plot(train_values)\n",
    "    valid_values = history.history['val_' + item][0:index]\n",
    "    plt.plot(valid_values)\n",
    "    plt.legend(['training','validation'])\n",
    "    plt.title('Training and validation '+ item)\n",
    "    plt.xlabel('epoch')\n",
    "    plt.show()\n",
    "\n",
    "\n",
    "def get_best_epoch(history):\n",
    "    maxAcc = 0\n",
    "    maxIdx = -1\n",
    "    for key, item in enumerate(history.history.items()):\n",
    "        (name, arr) = item\n",
    "        if name == 'val_loss':\n",
    "            for i in range(len(arr)):\n",
    "                if arr[i] > maxAcc:\n",
    "                    maxAcc = arr[i]\n",
    "                    maxIdx = i\n",
    "    return i\n",
    "        \n",
    "\n",
    "def model_summary(model, history):\n",
    "    \n",
    "    print('---'*30)\n",
    "\n",
    "    index = get_best_epoch(history)\n",
    "    print('Best Epochs: ', index)\n",
    "\n",
    "    train_accuracy = history.history['accuracy'][index]\n",
    "    train_loss = history.history['loss'][index]\n",
    "\n",
    "    val_accuracy = history.history['val_accuracy'][index]\n",
    "    val_loss = history.history['val_loss'][index]\n",
    "\n",
    "    print('Accuracy on train:',train_accuracy,'\\tLoss on all:',train_loss)\n",
    "    print('Accuracy on valid:',val_accuracy,'\\tLoss on valid:',val_loss)\n",
    "    print_graph('loss', index, history)\n",
    "    print_graph('accuracy', index, history)\n",
    "    print('---'*30)"
   ]
  },
  {
   "cell_type": "code",
   "execution_count": 14,
   "metadata": {},
   "outputs": [],
   "source": [
    "from tensorflow.keras.callbacks import Callback, ModelCheckpoint, LearningRateScheduler, TensorBoard, EarlyStopping, ReduceLROnPlateau\n",
    "import datetime\n",
    "\n",
    "EPOCHS = 100\n",
    "patience = 10\n",
    "batch_size = 16\n",
    "\n",
    "\n",
    "def callbackCreate(checkpoint_filepath):\n",
    "    from tensorflow.keras.callbacks import Callback, ModelCheckpoint, LearningRateScheduler, TensorBoard, EarlyStopping, ReduceLROnPlateau\n",
    "    import datetime\n",
    "    class myCallback(Callback):\n",
    "        def on_epoch_end(self, epoch, logs={}):\n",
    "            if ((logs.get('val_accuracy')>=0.85) & (logs.get('accuracy')>=0.9)):\n",
    "                print(\"\\nLimits Reached cancelling training!\")\n",
    "                self.model.stop_training = True\n",
    "\n",
    "    end_callback = myCallback()\n",
    "\n",
    "    lr_plat = ReduceLROnPlateau(patience = 2, mode = 'min')\n",
    "\n",
    "    early_stopping = EarlyStopping(patience = patience, monitor='val_loss',\n",
    "                                     mode='min', restore_best_weights=True, \n",
    "                                     verbose = 1, min_delta = .00075)\n",
    "\n",
    "    model_checkpoints = ModelCheckpoint(filepath=checkpoint_filepath,\n",
    "                                            save_weights_only=True,\n",
    "                                            monitor='val_loss',\n",
    "                                            mode='min',\n",
    "                                            verbose = 1,\n",
    "                                            save_best_only=True)\n",
    "\n",
    "    log_dir=\"logs/fit/\" + '_' + datetime.datetime.now().strftime(\"%Y%m%d-%H%M%S\")  \n",
    "    tensorboard_callback = TensorBoard(log_dir = log_dir, write_graph=True, histogram_freq=1)\n",
    "\n",
    "    return [end_callback, model_checkpoints, tensorboard_callback, early_stopping, lr_plat]"
   ]
  },
  {
   "cell_type": "code",
   "execution_count": 15,
   "metadata": {},
   "outputs": [],
   "source": [
    "def CompileModel(model):\n",
    "    model.summary()\n",
    "    model.compile(optimizer='adam', loss='sparse_categorical_crossentropy', metrics=['accuracy'])\n",
    "    return model\n",
    "\n",
    "def BuildModel():\n",
    "    prepared_model = VGG_MODEL()\n",
    "    compiled_model = CompileModel(prepared_model)\n",
    "    return compiled_model\n",
    "\n",
    "def FitModel(model, trainFeature, trainLabel, validFeature, validLabel, callbacks, checkpoint_filepath):\n",
    "\n",
    "    history = model.fit(trainFeature,trainLabel,\n",
    "                              epochs=EPOCHS,\n",
    "                              callbacks=callbacks,\n",
    "                              batch_size = batch_size,\n",
    "                              validation_data = (validFeature, validLabel)\n",
    "                              )\n",
    "    \n",
    "    for layer in model.layers:\n",
    "        layer.trainable = True\n",
    "    \n",
    "    model.load_weights(checkpoint_filepath)\n",
    "\n",
    "    final_accuracy_avg = np.mean(history.history[\"val_accuracy\"][-5:])\n",
    "\n",
    "    final_loss_avg =  np.mean(history.history[\"val_loss\"][-5:])\n",
    "\n",
    "    #clear_output()\n",
    "    #model.summary()\n",
    "\n",
    "    print('\\n')\n",
    "    print('---'*30)\n",
    "    print('Total Epochs :', len(history.history['loss']))\n",
    "    print('Last Accuracy on train:',history.history['accuracy'][-1],'\\tLast Loss on train:',history.history['loss'][-1])\n",
    "    print('Last Accuracy on val:', history.history['val_accuracy'][-1] ,'\\tLast Loss on val:', history.history['val_loss'][-1])\n",
    "    print('AVG Accuracy on last 5:', final_accuracy_avg ,'\\tAVG Loss on last 5:', final_loss_avg)\n",
    "    print('---'*30)\n",
    "\n",
    "    return model, history"
   ]
  },
  {
   "cell_type": "code",
   "execution_count": 16,
   "metadata": {},
   "outputs": [
    {
     "name": "stdout",
     "output_type": "stream",
     "text": [
      "Model: \"sequential\"\n",
      "_________________________________________________________________\n",
      "Layer (type)                 Output Shape              Param #   \n",
      "=================================================================\n",
      "sequential_1 (Sequential)    (None, 112, 112, 64)      39232     \n",
      "_________________________________________________________________\n",
      "sequential_2 (Sequential)    (None, 56, 56, 128)       222464    \n",
      "_________________________________________________________________\n",
      "sequential_3 (Sequential)    (None, 28, 28, 256)       1478400   \n",
      "_________________________________________________________________\n",
      "sequential_4 (Sequential)    (None, 14, 14, 512)       5905920   \n",
      "_________________________________________________________________\n",
      "sequential_5 (Sequential)    (None, 7, 7, 512)         7085568   \n",
      "_________________________________________________________________\n",
      "flatten (Flatten)            (None, 25088)             0         \n",
      "_________________________________________________________________\n",
      "dense (Dense)                (None, 1024)              25691136  \n",
      "_________________________________________________________________\n",
      "batch_normalization_13 (Batc (None, 1024)              4096      \n",
      "_________________________________________________________________\n",
      "activation_13 (Activation)   (None, 1024)              0         \n",
      "_________________________________________________________________\n",
      "dropout (Dropout)            (None, 1024)              0         \n",
      "_________________________________________________________________\n",
      "dense_1 (Dense)              (None, 9)                 9225      \n",
      "=================================================================\n",
      "Total params: 40,436,041\n",
      "Trainable params: 40,425,545\n",
      "Non-trainable params: 10,496\n",
      "_________________________________________________________________\n"
     ]
    }
   ],
   "source": [
    "compiled_model1 = BuildModel()"
   ]
  },
  {
   "cell_type": "code",
   "execution_count": 17,
   "metadata": {},
   "outputs": [
    {
     "name": "stdout",
     "output_type": "stream",
     "text": [
      "\n",
      "\n",
      "------------------------------------------------------------------------------------------\n",
      "Total Epochs : 23\n",
      "Last Accuracy on train: 0.9010370373725891 \tLast Loss on train: 0.29755350947380066\n",
      "Last Accuracy on val: 0.9106666445732117 \tLast Loss on val: 0.26378074288368225\n",
      "AVG Accuracy on last 5: 0.9041777610778808 \tAVG Loss on last 5: 0.27708754539489744\n",
      "------------------------------------------------------------------------------------------\n"
     ]
    }
   ],
   "source": [
    "time_start = time.time()\n",
    "checkpoint_filepath = '../../model/Fish_Weight1.h5'\n",
    "callbacks = callbackCreate(checkpoint_filepath)\n",
    "model1, history = FitModel(compiled_model1, X_train1, y_train1, X_valid1, y_valid1, callbacks, checkpoint_filepath)\n",
    "time_end = time.time()"
   ]
  },
  {
   "cell_type": "code",
   "execution_count": 18,
   "metadata": {},
   "outputs": [
    {
     "name": "stdout",
     "output_type": "stream",
     "text": [
      "------------------------------------------------------------------------------------------\n",
      "part 1 time cost 571.1944313049316 s\n",
      "------------------------------------------------------------------------------------------\n",
      "------------------------------------------------------------------------------------------\n",
      "Best Epochs:  22\n",
      "Accuracy on train: 0.9010370373725891 \tLoss on all: 0.29755350947380066\n",
      "Accuracy on valid: 0.9106666445732117 \tLoss on valid: 0.26378074288368225\n"
     ]
    },
    {
     "data": {
      "image/png": "[encoded data removed]",
      "text/plain": [
       "<Figure size 432x288 with 1 Axes>"
      ]
     },
     "metadata": {
      "needs_background": "light"
     },
     "output_type": "display_data"
    },
    {
     "data": {
      "image/png": "[encoded data removed]",
      "text/plain": [
       "<Figure size 432x288 with 1 Axes>"
      ]
     },
     "metadata": {
      "needs_background": "light"
     },
     "output_type": "display_data"
    },
    {
     "name": "stdout",
     "output_type": "stream",
     "text": [
      "------------------------------------------------------------------------------------------\n"
     ]
    }
   ],
   "source": [
    "time_c= time_end - time_start\n",
    "print('---'*30)\n",
    "print('part 1 time cost', time_c, 's')\n",
    "print('---'*30)\n",
    "model_summary(model1, history)"
   ]
  },
  {
   "cell_type": "code",
   "execution_count": 19,
   "metadata": {},
   "outputs": [],
   "source": [
    "modelName = '../../model/set1.h5'\n",
    "model1.save(modelName)"
   ]
  },
  {
   "cell_type": "code",
   "execution_count": 20,
   "metadata": {},
   "outputs": [
    {
     "name": "stdout",
     "output_type": "stream",
     "text": [
      "\n",
      "\n",
      "------------------------------------------------------------------------------------------\n",
      "Total Epochs : 15\n",
      "Last Accuracy on train: 0.9051851630210876 \tLast Loss on train: 0.2838080823421478\n",
      "Last Accuracy on val: 0.941777765750885 \tLast Loss on val: 0.18069583177566528\n",
      "AVG Accuracy on last 5: 0.9386666536331176 \tAVG Loss on last 5: 0.18849970102310182\n",
      "------------------------------------------------------------------------------------------\n"
     ]
    }
   ],
   "source": [
    "time_start = time.time()\n",
    "checkpoint_filepath = '../../model/Fish_Weight.h5'\n",
    "callbacks = callbackCreate(checkpoint_filepath)\n",
    "for layer in model1.layers[:2]:\n",
    "    layer.trainable = False\n",
    "    \n",
    "model2, history = FitModel(model1, X_train2, y_train2, X_valid2, y_valid2, callbacks, checkpoint_filepath)\n",
    "time_end = time.time()"
   ]
  },
  {
   "cell_type": "code",
   "execution_count": 21,
   "metadata": {},
   "outputs": [
    {
     "name": "stdout",
     "output_type": "stream",
     "text": [
      "------------------------------------------------------------------------------------------\n",
      "part 1+part2 368.79491782188416 s\n",
      "------------------------------------------------------------------------------------------\n",
      "------------------------------------------------------------------------------------------\n",
      "Best Epochs:  14\n",
      "Accuracy on train: 0.9051851630210876 \tLoss on all: 0.2838080823421478\n",
      "Accuracy on valid: 0.941777765750885 \tLoss on valid: 0.18069583177566528\n"
     ]
    },
    {
     "data": {
      "image/png": "[encoded data removed]",
      "text/plain": [
       "<Figure size 432x288 with 1 Axes>"
      ]
     },
     "metadata": {
      "needs_background": "light"
     },
     "output_type": "display_data"
    },
    {
     "data": {
      "image/png": "[encoded data removed]",
      "text/plain": [
       "<Figure size 432x288 with 1 Axes>"
      ]
     },
     "metadata": {
      "needs_background": "light"
     },
     "output_type": "display_data"
    },
    {
     "name": "stdout",
     "output_type": "stream",
     "text": [
      "------------------------------------------------------------------------------------------\n"
     ]
    }
   ],
   "source": [
    "time_c= time_end - time_start\n",
    "print('---'*30)\n",
    "print('part 1+part2', time_c, 's')\n",
    "print('---'*30)\n",
    "model_summary(model2, history)"
   ]
  },
  {
   "cell_type": "code",
   "execution_count": 22,
   "metadata": {},
   "outputs": [],
   "source": [
    "modelName = '../../model/set1set2.h5'\n",
    "model2.save(modelName)"
   ]
  },
  {
   "cell_type": "code",
   "execution_count": 23,
   "metadata": {},
   "outputs": [
    {
     "name": "stdout",
     "output_type": "stream",
     "text": [
      "Model: \"sequential_6\"\n",
      "_________________________________________________________________\n",
      "Layer (type)                 Output Shape              Param #   \n",
      "=================================================================\n",
      "sequential_7 (Sequential)    (None, 112, 112, 64)      39232     \n",
      "_________________________________________________________________\n",
      "sequential_8 (Sequential)    (None, 56, 56, 128)       222464    \n",
      "_________________________________________________________________\n",
      "sequential_9 (Sequential)    (None, 28, 28, 256)       1478400   \n",
      "_________________________________________________________________\n",
      "sequential_10 (Sequential)   (None, 14, 14, 512)       5905920   \n",
      "_________________________________________________________________\n",
      "sequential_11 (Sequential)   (None, 7, 7, 512)         7085568   \n",
      "_________________________________________________________________\n",
      "flatten_1 (Flatten)          (None, 25088)             0         \n",
      "_________________________________________________________________\n",
      "dense_2 (Dense)              (None, 1024)              25691136  \n",
      "_________________________________________________________________\n",
      "batch_normalization_27 (Batc (None, 1024)              4096      \n",
      "_________________________________________________________________\n",
      "activation_27 (Activation)   (None, 1024)              0         \n",
      "_________________________________________________________________\n",
      "dropout_1 (Dropout)          (None, 1024)              0         \n",
      "_________________________________________________________________\n",
      "dense_3 (Dense)              (None, 9)                 9225      \n",
      "=================================================================\n",
      "Total params: 40,436,041\n",
      "Trainable params: 40,425,545\n",
      "Non-trainable params: 10,496\n",
      "_________________________________________________________________\n"
     ]
    }
   ],
   "source": [
    "compiled_model = BuildModel()"
   ]
  },
  {
   "cell_type": "code",
   "execution_count": 24,
   "metadata": {},
   "outputs": [
    {
     "name": "stdout",
     "output_type": "stream",
     "text": [
      "\n",
      "\n",
      "------------------------------------------------------------------------------------------\n",
      "Total Epochs : 11\n",
      "Last Accuracy on train: 0.9139259457588196 \tLast Loss on train: 0.2504919767379761\n",
      "Last Accuracy on val: 0.9408888816833496 \tLast Loss on val: 0.17677761614322662\n",
      "AVG Accuracy on last 5: 0.7673333406448364 \tAVG Loss on last 5: 0.9634104877710342\n",
      "------------------------------------------------------------------------------------------\n"
     ]
    }
   ],
   "source": [
    "time_start = time.time() \n",
    "checkpoint_filepath = '../../model/Fish_Weight.h5'\n",
    "callbacks = callbackCreate(checkpoint_filepath)\n",
    "model, history = FitModel(compiled_model, X_train, y_train, X_valid, y_valid, callbacks, checkpoint_filepath)\n",
    "time_end = time.time()"
   ]
  },
  {
   "cell_type": "code",
   "execution_count": 25,
   "metadata": {},
   "outputs": [
    {
     "name": "stdout",
     "output_type": "stream",
     "text": [
      "------------------------------------------------------------------------------------------\n",
      "all train 539.9967634677887 s\n",
      "------------------------------------------------------------------------------------------\n",
      "------------------------------------------------------------------------------------------\n",
      "Best Epochs:  10\n",
      "Accuracy on train: 0.9139259457588196 \tLoss on all: 0.2504919767379761\n",
      "Accuracy on valid: 0.9408888816833496 \tLoss on valid: 0.17677761614322662\n"
     ]
    },
    {
     "data": {
      "image/png": "[encoded data removed]",
      "text/plain": [
       "<Figure size 432x288 with 1 Axes>"
      ]
     },
     "metadata": {
      "needs_background": "light"
     },
     "output_type": "display_data"
    },
    {
     "data": {
      "image/png": "[encoded data removed]",
      "text/plain": [
       "<Figure size 432x288 with 1 Axes>"
      ]
     },
     "metadata": {
      "needs_background": "light"
     },
     "output_type": "display_data"
    },
    {
     "name": "stdout",
     "output_type": "stream",
     "text": [
      "------------------------------------------------------------------------------------------\n"
     ]
    }
   ],
   "source": [
    "time_c= time_end - time_start\n",
    "print('---'*30)\n",
    "print('all train', time_c, 's')\n",
    "print('---'*30)\n",
    "model_summary(model, history)"
   ]
  },
  {
   "cell_type": "code",
   "execution_count": 26,
   "metadata": {},
   "outputs": [],
   "source": [
    "\n",
    "modelName = '../../model/all.h5'\n",
    "model.save(modelName)"
   ]
  }
 ],
 "metadata": {
  "kernelspec": {
   "display_name": "Python 3",
   "language": "python",
   "name": "python3"
  },
  "language_info": {
   "codemirror_mode": {
    "name": "ipython",
    "version": 3
   },
   "file_extension": ".py",
   "mimetype": "text/x-python",
   "name": "python",
   "nbconvert_exporter": "python",
   "pygments_lexer": "ipython3",
   "version": "3.8.3"
  },
  "varInspector": {
   "cols": {
    "lenName": 16,
    "lenType": 16,
    "lenVar": 40
   },
   "kernels_config": {
    "python": {
     "delete_cmd_postfix": "",
     "delete_cmd_prefix": "del ",
     "library": "var_list.py",
     "varRefreshCmd": "print(var_dic_list())"
    },
    "r": {
     "delete_cmd_postfix": ") ",
     "delete_cmd_prefix": "rm(",
     "library": "var_list.r",
     "varRefreshCmd": "cat(var_dic_list()) "
    }
   },
   "types_to_exclude": [
    "module",
    "function",
    "builtin_function_or_method",
    "instance",
    "_Feature"
   ],
   "window_display": false
  }
 },
 "nbformat": 4,
 "nbformat_minor": 4
}
